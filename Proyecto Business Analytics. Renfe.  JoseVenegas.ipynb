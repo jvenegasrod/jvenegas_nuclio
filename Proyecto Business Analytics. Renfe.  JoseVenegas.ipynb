{
 "cells": [
  {
   "attachments": {},
   "cell_type": "markdown",
   "metadata": {},
   "source": [
    "![Nuclio logo](https://nuclio.school/wp-content/uploads/2018/12/nucleoDS-newBlack.png)\n",
    "\n",
    "# Proyecto final - Data Analytics y Business Intelligence\n",
    "\n",
    "Recibimos dos datasets:\n",
    "\n",
    "1. `renfe.csv`: Información de búsquedas de billetes que se ha extrajo de la página de Renfe.\n",
    "2. `coordenadas_ciudades.csv`: Latitud y longitud de provincias españolas.\n",
    "\n",
    "Queremos usar estos datasets para un modelo de Machine Learning que utilizaremos para predecir los precios de los billetes. Y, para ello, necesitamos limpiar, explorar y pre-procesar el dataset.\n",
    "\n",
    "## Reglas de juego\n",
    "\n",
    "1. El proyecto se debe entregar en grupos de dos o individualmente. \n",
    "2. Cada respuesta correcta suma un punto.\n",
    "3. La calificación final consistirá en la suma de todos los puntos obtenidos sobre el total de puntos posibles.\n",
    "\n",
    "\n",
    "## Diccionario de datos\n",
    "\n",
    "Esta es la información provista:\n",
    "\n",
    "### `renfe.csv`\n",
    "- `FECHA_CONSULTA`: Fecha en la que se consultó la página.\n",
    "- `FECHA_INICIO`: Fecha de inicio del trayecto.\n",
    "- `FECHA_FIN`: Fecha de finalización del trayecto.\n",
    "- `CIUDAD_ORIGEN`: Ciudad de origen del trayecto.\n",
    "- `CIUDAD_DESTINO`: Ciudad destino del trayecto.\n",
    "- `TIPO_TREN`: Tipo de tren.\n",
    "- `TIPO_TARIFA`: Tipo de tarifa del billete.\n",
    "- `CLASE`: Clase del asiento seleccionado.\n",
    "- `PRECIO`: Precio del tren seleccionado.\n",
    "\n",
    "### `coordenadas_ciudades.csv`\n",
    "- `ciudad`: Nombre de la ciudad.\n",
    "- `latitud`: Coordenada de latitud de la ciudad.\n",
    "- `longitud`: Coordenada de longitud de la ciudad."
   ]
  },
  {
   "attachments": {},
   "cell_type": "markdown",
   "metadata": {},
   "source": [
    "## Importar librerías"
   ]
  },
  {
   "attachments": {},
   "cell_type": "markdown",
   "metadata": {},
   "source": [
    "## P0: Lee el dataset `renfe.csv`"
   ]
  },
  {
   "cell_type": "code",
   "execution_count": 2,
   "metadata": {},
   "outputs": [],
   "source": [
    "import pandas as pd\n",
    "import numpy as np\n",
    "import matplotlib.pyplot as plt\n",
    "import plotly.express as px\n",
    "import seaborn as sns\n",
    "\n",
    "df_renfe = pd.read_csv(\"data/renfe.csv\",sep=\";\")\n"
   ]
  },
  {
   "attachments": {},
   "cell_type": "markdown",
   "metadata": {},
   "source": [
    "## P1: Visualiza las primeras y las últimas filas del dataset"
   ]
  },
  {
   "cell_type": "code",
   "execution_count": 3,
   "metadata": {},
   "outputs": [
    {
     "name": "stdout",
     "output_type": "stream",
     "text": [
      "        FECHA_CONSULTA         FECHA_INICIO            FECHA_FIN  \\\n",
      "0  2019-05-25 01:43:03  2019-06-28 20:36:00  2019-06-28 23:14:00   \n",
      "1  2019-06-22 13:05:11  2019-07-14 10:00:00  2019-07-14 13:10:00   \n",
      "2  2019-04-17 06:24:03  2019-05-23 13:40:00  2019-05-23 16:10:00   \n",
      "3  2019-05-10 21:21:59  2019-05-29 14:50:00  2019-05-29 22:30:00   \n",
      "4  2019-05-09 19:43:37  2019-06-26 13:25:00  2019-06-26 16:24:00   \n",
      "\n",
      "  CIUDAD_ORIGEN CIUDAD_DESTINO TIPO_TREN TIPO_TARIFA    CLASE  PRECIO  \n",
      "0       SEVILLA         MADRID     ALVIA    Flexible  Turista   67.20  \n",
      "1     BARCELONA         MADRID       AVE    Flexible  Turista  107.70  \n",
      "2       SEVILLA         MADRID       AVE       Promo  Turista   47.30  \n",
      "3      VALENCIA         MADRID  REGIONAL  Adulto ida  Turista   28.35  \n",
      "4        MADRID      BARCELONA   AVE-TGV       Promo  Turista   66.75  \n",
      "             FECHA_CONSULTA         FECHA_INICIO            FECHA_FIN  \\\n",
      "383563  2019-05-06 05:11:53  2019-05-10 19:40:00  2019-05-10 21:29:00   \n",
      "383564  2019-06-19 21:48:56  2019-08-05 20:00:00  2019-08-05 23:10:00   \n",
      "383565  2019-04-24 23:21:44  2019-04-29 16:15:00  2019-04-29 17:55:00   \n",
      "383566  2019-05-27 21:05:19  2019-07-07 15:00:00  2019-07-07 17:21:00   \n",
      "383567  2019-05-27 15:04:14  2019-06-16 18:35:00  2019-06-16 20:21:00   \n",
      "\n",
      "       CIUDAD_ORIGEN CIUDAD_DESTINO TIPO_TREN TIPO_TARIFA       CLASE  PRECIO  \n",
      "383563        MADRID       VALENCIA       AVE    Flexible     Turista   73.10  \n",
      "383564     BARCELONA         MADRID       AVE       Promo  Preferente   54.45  \n",
      "383565      VALENCIA         MADRID       AVE       Promo     Turista   27.80  \n",
      "383566        MADRID        SEVILLA       AVE       Promo     Turista   47.30  \n",
      "383567      VALENCIA         MADRID       AVE    Flexible     Turista   73.10  \n"
     ]
    }
   ],
   "source": [
    "print(df_renfe.head())\n",
    "\n",
    "print(df_renfe.tail())"
   ]
  },
  {
   "attachments": {},
   "cell_type": "markdown",
   "metadata": {},
   "source": [
    "## P2: ¿Cuantas filas y columnas tiene el dataset?"
   ]
  },
  {
   "cell_type": "code",
   "execution_count": 4,
   "metadata": {},
   "outputs": [
    {
     "name": "stdout",
     "output_type": "stream",
     "text": [
      "El dataset tiene 383568 filas y 9 columnas\n"
     ]
    }
   ],
   "source": [
    "filas, columnas = df_renfe.shape\n",
    "\n",
    "print(f\"El dataset tiene {filas} filas y {columnas} columnas\")\n"
   ]
  },
  {
   "attachments": {},
   "cell_type": "markdown",
   "metadata": {},
   "source": [
    "## P3: Cambia los nombres de todas las columnas a minúsculas"
   ]
  },
  {
   "cell_type": "code",
   "execution_count": 5,
   "metadata": {},
   "outputs": [
    {
     "name": "stdout",
     "output_type": "stream",
     "text": [
      "             fecha_consulta         fecha_inicio            fecha_fin  \\\n",
      "0       2019-05-25 01:43:03  2019-06-28 20:36:00  2019-06-28 23:14:00   \n",
      "1       2019-06-22 13:05:11  2019-07-14 10:00:00  2019-07-14 13:10:00   \n",
      "2       2019-04-17 06:24:03  2019-05-23 13:40:00  2019-05-23 16:10:00   \n",
      "3       2019-05-10 21:21:59  2019-05-29 14:50:00  2019-05-29 22:30:00   \n",
      "4       2019-05-09 19:43:37  2019-06-26 13:25:00  2019-06-26 16:24:00   \n",
      "...                     ...                  ...                  ...   \n",
      "383563  2019-05-06 05:11:53  2019-05-10 19:40:00  2019-05-10 21:29:00   \n",
      "383564  2019-06-19 21:48:56  2019-08-05 20:00:00  2019-08-05 23:10:00   \n",
      "383565  2019-04-24 23:21:44  2019-04-29 16:15:00  2019-04-29 17:55:00   \n",
      "383566  2019-05-27 21:05:19  2019-07-07 15:00:00  2019-07-07 17:21:00   \n",
      "383567  2019-05-27 15:04:14  2019-06-16 18:35:00  2019-06-16 20:21:00   \n",
      "\n",
      "       ciudad_origen ciudad_destino tipo_tren tipo_tarifa       clase  precio  \n",
      "0            SEVILLA         MADRID     ALVIA    Flexible     Turista   67.20  \n",
      "1          BARCELONA         MADRID       AVE    Flexible     Turista  107.70  \n",
      "2            SEVILLA         MADRID       AVE       Promo     Turista   47.30  \n",
      "3           VALENCIA         MADRID  REGIONAL  Adulto ida     Turista   28.35  \n",
      "4             MADRID      BARCELONA   AVE-TGV       Promo     Turista   66.75  \n",
      "...              ...            ...       ...         ...         ...     ...  \n",
      "383563        MADRID       VALENCIA       AVE    Flexible     Turista   73.10  \n",
      "383564     BARCELONA         MADRID       AVE       Promo  Preferente   54.45  \n",
      "383565      VALENCIA         MADRID       AVE       Promo     Turista   27.80  \n",
      "383566        MADRID        SEVILLA       AVE       Promo     Turista   47.30  \n",
      "383567      VALENCIA         MADRID       AVE    Flexible     Turista   73.10  \n",
      "\n",
      "[383568 rows x 9 columns]\n"
     ]
    }
   ],
   "source": [
    "df_renfe.columns = df_renfe.columns.str.lower()\n",
    "\n",
    "# Imprimir el DataFrame con los nombres de columnas en minúsculas\n",
    "print(df_renfe)"
   ]
  },
  {
   "attachments": {},
   "cell_type": "markdown",
   "metadata": {},
   "source": [
    "## P4: Muestra los tipos de datos de cada columna"
   ]
  },
  {
   "cell_type": "code",
   "execution_count": 6,
   "metadata": {},
   "outputs": [
    {
     "name": "stdout",
     "output_type": "stream",
     "text": [
      "fecha_consulta     object\n",
      "fecha_inicio       object\n",
      "fecha_fin          object\n",
      "ciudad_origen      object\n",
      "ciudad_destino     object\n",
      "tipo_tren          object\n",
      "tipo_tarifa        object\n",
      "clase              object\n",
      "precio            float64\n",
      "dtype: object\n"
     ]
    }
   ],
   "source": [
    "print(df_renfe.dtypes)"
   ]
  },
  {
   "attachments": {},
   "cell_type": "markdown",
   "metadata": {},
   "source": [
    "## P5: Cambia los tipos de datos que creas que creas incorrectos, por los tipos adecuados"
   ]
  },
  {
   "cell_type": "code",
   "execution_count": 7,
   "metadata": {},
   "outputs": [
    {
     "name": "stdout",
     "output_type": "stream",
     "text": [
      "fecha_consulta    datetime64[ns]\n",
      "fecha_inicio      datetime64[ns]\n",
      "fecha_fin         datetime64[ns]\n",
      "ciudad_origen             object\n",
      "ciudad_destino            object\n",
      "tipo_tren                 object\n",
      "tipo_tarifa               object\n",
      "clase                     object\n",
      "precio                   float64\n",
      "dtype: object\n"
     ]
    }
   ],
   "source": [
    "# Convertir la columna DateTime a tipo datetime\n",
    "df_renfe['fecha_consulta'] = pd.to_datetime(df_renfe['fecha_consulta'])\n",
    "df_renfe['fecha_fin'] = pd.to_datetime(df_renfe['fecha_fin'])\n",
    "df_renfe['fecha_inicio'] = pd.to_datetime(df_renfe['fecha_inicio'])\n",
    "print(df_renfe.dtypes)"
   ]
  },
  {
   "cell_type": "code",
   "execution_count": 8,
   "metadata": {},
   "outputs": [
    {
     "name": "stdout",
     "output_type": "stream",
     "text": [
      "       fecha_consulta        fecha_inicio           fecha_fin ciudad_origen  \\\n",
      "0 2019-05-25 01:43:03 2019-06-28 20:36:00 2019-06-28 23:14:00       SEVILLA   \n",
      "1 2019-06-22 13:05:11 2019-07-14 10:00:00 2019-07-14 13:10:00     BARCELONA   \n",
      "2 2019-04-17 06:24:03 2019-05-23 13:40:00 2019-05-23 16:10:00       SEVILLA   \n",
      "3 2019-05-10 21:21:59 2019-05-29 14:50:00 2019-05-29 22:30:00      VALENCIA   \n",
      "4 2019-05-09 19:43:37 2019-06-26 13:25:00 2019-06-26 16:24:00        MADRID   \n",
      "\n",
      "  ciudad_destino tipo_tren tipo_tarifa    clase  precio  \n",
      "0         MADRID     ALVIA    Flexible  Turista   67.20  \n",
      "1         MADRID       AVE    Flexible  Turista  107.70  \n",
      "2         MADRID       AVE       Promo  Turista   47.30  \n",
      "3         MADRID  REGIONAL  Adulto ida  Turista   28.35  \n",
      "4      BARCELONA   AVE-TGV       Promo  Turista   66.75  \n"
     ]
    }
   ],
   "source": [
    "print(df_renfe.head())"
   ]
  },
  {
   "attachments": {},
   "cell_type": "markdown",
   "metadata": {},
   "source": [
    "## P6: Filas duplicadas"
   ]
  },
  {
   "attachments": {},
   "cell_type": "markdown",
   "metadata": {},
   "source": [
    "### P6.1: ¿Cuántas filas duplicadas tiene el dataset?"
   ]
  },
  {
   "cell_type": "code",
   "execution_count": 9,
   "metadata": {},
   "outputs": [
    {
     "name": "stdout",
     "output_type": "stream",
     "text": [
      "El dataset tiene 33 filas duplicadas.\n"
     ]
    }
   ],
   "source": [
    "df_renfe_duplicadas = df_renfe[df_renfe.duplicated()]\n",
    "df_renfe_duplicadas.shape\n",
    "filasdup, columnasdup = df_renfe_duplicadas.shape\n",
    "print(f\"El dataset tiene {filasdup} filas duplicadas.\")\n"
   ]
  },
  {
   "attachments": {},
   "cell_type": "markdown",
   "metadata": {},
   "source": [
    "### P6.2: Quita las filas duplicadas"
   ]
  },
  {
   "cell_type": "code",
   "execution_count": 10,
   "metadata": {},
   "outputs": [
    {
     "name": "stdout",
     "output_type": "stream",
     "text": [
      "El nuevo dataset tiene 383535 filas.\n"
     ]
    }
   ],
   "source": [
    "df_renfe_sd = df_renfe.drop_duplicates()\n",
    "filasless, columnasless=df_renfe_sd.shape\n",
    "print(f\"El nuevo dataset tiene {filasless} filas.\")\n",
    "#33 filas menos"
   ]
  },
  {
   "attachments": {},
   "cell_type": "markdown",
   "metadata": {},
   "source": [
    "## P7: Valores nulos y análisis de `precio`"
   ]
  },
  {
   "attachments": {},
   "cell_type": "markdown",
   "metadata": {},
   "source": [
    "### P7.1: ¿Que porcentaje de valores nulos hay por cada columna?"
   ]
  },
  {
   "cell_type": "code",
   "execution_count": 11,
   "metadata": {},
   "outputs": [
    {
     "name": "stdout",
     "output_type": "stream",
     "text": [
      "fecha_consulta    0.00%\n",
      "fecha_inicio      0.00%\n",
      "fecha_fin         0.00%\n",
      "ciudad_origen     0.00%\n",
      "ciudad_destino    0.00%\n",
      "tipo_tren         0.00%\n",
      "tipo_tarifa       0.35%\n",
      "clase             0.35%\n",
      "precio            8.03%\n",
      "dtype: object\n"
     ]
    }
   ],
   "source": [
    "\n",
    "perc_null = (df_renfe_sd.isnull().sum() / df_renfe_sd.count()) * 100\n",
    "perc_nullf = perc_null.map('{:.2f}%'.format)\n",
    "print(perc_nullf)"
   ]
  },
  {
   "attachments": {},
   "cell_type": "markdown",
   "metadata": {},
   "source": [
    "### P7.2: ¿Cual es el mínimo, percentiles importantes (25%, 50%, 75%) y el máximo de `precio`?"
   ]
  },
  {
   "cell_type": "code",
   "execution_count": 12,
   "metadata": {},
   "outputs": [
    {
     "data": {
      "text/html": [
       "<div>\n",
       "<style scoped>\n",
       "    .dataframe tbody tr th:only-of-type {\n",
       "        vertical-align: middle;\n",
       "    }\n",
       "\n",
       "    .dataframe tbody tr th {\n",
       "        vertical-align: top;\n",
       "    }\n",
       "\n",
       "    .dataframe thead th {\n",
       "        text-align: right;\n",
       "    }\n",
       "</style>\n",
       "<table border=\"1\" class=\"dataframe\">\n",
       "  <thead>\n",
       "    <tr style=\"text-align: right;\">\n",
       "      <th></th>\n",
       "      <th>precio</th>\n",
       "    </tr>\n",
       "  </thead>\n",
       "  <tbody>\n",
       "    <tr>\n",
       "      <th>count</th>\n",
       "      <td>355020.000000</td>\n",
       "    </tr>\n",
       "    <tr>\n",
       "      <th>mean</th>\n",
       "      <td>61.436162</td>\n",
       "    </tr>\n",
       "    <tr>\n",
       "      <th>std</th>\n",
       "      <td>25.696218</td>\n",
       "    </tr>\n",
       "    <tr>\n",
       "      <th>min</th>\n",
       "      <td>0.000000</td>\n",
       "    </tr>\n",
       "    <tr>\n",
       "      <th>25%</th>\n",
       "      <td>41.200000</td>\n",
       "    </tr>\n",
       "    <tr>\n",
       "      <th>50%</th>\n",
       "      <td>58.150000</td>\n",
       "    </tr>\n",
       "    <tr>\n",
       "      <th>75%</th>\n",
       "      <td>76.300000</td>\n",
       "    </tr>\n",
       "    <tr>\n",
       "      <th>max</th>\n",
       "      <td>342.800000</td>\n",
       "    </tr>\n",
       "  </tbody>\n",
       "</table>\n",
       "</div>"
      ],
      "text/plain": [
       "              precio\n",
       "count  355020.000000\n",
       "mean       61.436162\n",
       "std        25.696218\n",
       "min         0.000000\n",
       "25%        41.200000\n",
       "50%        58.150000\n",
       "75%        76.300000\n",
       "max       342.800000"
      ]
     },
     "execution_count": 12,
     "metadata": {},
     "output_type": "execute_result"
    }
   ],
   "source": [
    "df_renfe_sd.describe()\n"
   ]
  },
  {
   "cell_type": "code",
   "execution_count": 13,
   "metadata": {},
   "outputs": [
    {
     "name": "stdout",
     "output_type": "stream",
     "text": [
      "Mínimo: precio    0.0\n",
      "Name: min, dtype: float64\n",
      "Máximo: precio    342.8\n",
      "Name: max, dtype: float64\n",
      "Percentil 25: precio    41.2\n",
      "Name: 25%, dtype: float64\n",
      "Percentil 50: precio    58.15\n",
      "Name: 50%, dtype: float64\n",
      "Percentil 75: precio    76.3\n",
      "Name: 75%, dtype: float64\n"
     ]
    }
   ],
   "source": [
    "valores = df_renfe_sd.describe()\n",
    "minimo = valores.loc['min']\n",
    "media = valores.loc['mean']\n",
    "maximo = valores.loc['max']\n",
    "percentil_25 = valores.loc['25%']\n",
    "percentil_50 = valores.loc['50%']\n",
    "percentil_75 = valores.loc['75%']\n",
    "print('Mínimo:', minimo)\n",
    "print('Máximo:', maximo)\n",
    "print('Percentil 25:', percentil_25)\n",
    "print('Percentil 50:', percentil_50)\n",
    "print('Percentil 75:', percentil_75)\n"
   ]
  },
  {
   "attachments": {},
   "cell_type": "markdown",
   "metadata": {},
   "source": [
    "### P7.3: ¿Hay algo raro en el valor mínimo de `precio`? Quita las filas con ese valor del dataset"
   ]
  },
  {
   "cell_type": "code",
   "execution_count": 34,
   "metadata": {},
   "outputs": [
    {
     "name": "stdout",
     "output_type": "stream",
     "text": [
      "            fecha_consulta        fecha_inicio           fecha_fin  \\\n",
      "0      2019-05-25 01:43:03 2019-06-28 20:36:00 2019-06-28 23:14:00   \n",
      "1      2019-06-22 13:05:11 2019-07-14 10:00:00 2019-07-14 13:10:00   \n",
      "2      2019-04-17 06:24:03 2019-05-23 13:40:00 2019-05-23 16:10:00   \n",
      "3      2019-05-10 21:21:59 2019-05-29 14:50:00 2019-05-29 22:30:00   \n",
      "4      2019-05-09 19:43:37 2019-06-26 13:25:00 2019-06-26 16:24:00   \n",
      "...                    ...                 ...                 ...   \n",
      "383563 2019-05-06 05:11:53 2019-05-10 19:40:00 2019-05-10 21:29:00   \n",
      "383564 2019-06-19 21:48:56 2019-08-05 20:00:00 2019-08-05 23:10:00   \n",
      "383565 2019-04-24 23:21:44 2019-04-29 16:15:00 2019-04-29 17:55:00   \n",
      "383566 2019-05-27 21:05:19 2019-07-07 15:00:00 2019-07-07 17:21:00   \n",
      "383567 2019-05-27 15:04:14 2019-06-16 18:35:00 2019-06-16 20:21:00   \n",
      "\n",
      "       ciudad_origen ciudad_destino tipo_tren tipo_tarifa       clase  precio  \n",
      "0            SEVILLA         MADRID     ALVIA    Flexible     Turista   67.20  \n",
      "1          BARCELONA         MADRID       AVE    Flexible     Turista  107.70  \n",
      "2            SEVILLA         MADRID       AVE       Promo     Turista   47.30  \n",
      "3           VALENCIA         MADRID  REGIONAL  Adulto ida     Turista   28.35  \n",
      "4             MADRID      BARCELONA   AVE-TGV       Promo     Turista   66.75  \n",
      "...              ...            ...       ...         ...         ...     ...  \n",
      "383563        MADRID       VALENCIA       AVE    Flexible     Turista   73.10  \n",
      "383564     BARCELONA         MADRID       AVE       Promo  Preferente   54.45  \n",
      "383565      VALENCIA         MADRID       AVE       Promo     Turista   27.80  \n",
      "383566        MADRID        SEVILLA       AVE       Promo     Turista   47.30  \n",
      "383567      VALENCIA         MADRID       AVE    Flexible     Turista   73.10  \n",
      "\n",
      "[383535 rows x 9 columns]\n"
     ]
    }
   ],
   "source": [
    "renfe_zero= df_renfe_sd[df_renfe_sd['precio'] == 0]\n",
    "renfe_zz= df_renfe_sd[df_renfe_sd['precio'] != 0]\n",
    "print(renfe_zz)"
   ]
  },
  {
   "attachments": {},
   "cell_type": "markdown",
   "metadata": {},
   "source": [
    "### P7.4: Reemplaza los valores nulos en `precio` por la media de esa columna"
   ]
  },
  {
   "cell_type": "code",
   "execution_count": 15,
   "metadata": {},
   "outputs": [],
   "source": [
    "df_renfe_sd.loc[df_renfe_sd['precio'] == 0, 'precio'] = media"
   ]
  },
  {
   "cell_type": "code",
   "execution_count": 16,
   "metadata": {},
   "outputs": [],
   "source": [
    "\n",
    "assert df_renfe_sd.precio.all() != 0\n"
   ]
  },
  {
   "attachments": {},
   "cell_type": "markdown",
   "metadata": {},
   "source": [
    "### P7.5: Quita las filas donde `clase` o `tipo_tarifa` sean nulos"
   ]
  },
  {
   "cell_type": "code",
   "execution_count": 17,
   "metadata": {},
   "outputs": [],
   "source": [
    "filas_out = ['clase', 'tipo_tarifa']\n",
    "\n",
    "df_renfe_fo = df_renfe_sd.dropna(subset=filas_out)"
   ]
  },
  {
   "attachments": {},
   "cell_type": "markdown",
   "metadata": {},
   "source": [
    "## P8: Tiempo de viaje"
   ]
  },
  {
   "attachments": {},
   "cell_type": "markdown",
   "metadata": {},
   "source": [
    "### P8.1: Calcula el tiempo de viaje en minutos (fecha_fin - fecha_inicio)"
   ]
  },
  {
   "cell_type": "code",
   "execution_count": 18,
   "metadata": {},
   "outputs": [
    {
     "name": "stdout",
     "output_type": "stream",
     "text": [
      "0         158.0\n",
      "1         190.0\n",
      "2         150.0\n",
      "3         460.0\n",
      "4         179.0\n",
      "          ...  \n",
      "383563    109.0\n",
      "383564    190.0\n",
      "383565    100.0\n",
      "383566    141.0\n",
      "383567    106.0\n",
      "Length: 382197, dtype: float64\n"
     ]
    }
   ],
   "source": [
    "resta=df_renfe_fo[\"fecha_fin\"]-df_renfe_fo[\"fecha_inicio\"]\n",
    "tiempo_de_viaje = resta.dt.total_seconds() / 60\n",
    "print(tiempo_de_viaje)\n",
    "\n"
   ]
  },
  {
   "attachments": {},
   "cell_type": "markdown",
   "metadata": {},
   "source": [
    "### P8.2: Haz un histograma de la variable que acabas de crear (`tiempo_de_viaje`)"
   ]
  },
  {
   "cell_type": "code",
   "execution_count": 19,
   "metadata": {},
   "outputs": [
    {
     "data": {
      "image/png": "[encoded data removed]",
      "text/plain": [
       "<Figure size 640x480 with 1 Axes>"
      ]
     },
     "metadata": {},
     "output_type": "display_data"
    }
   ],
   "source": [
    "plt.hist(tiempo_de_viaje, bins=10)\n",
    "\n",
    "\n",
    "plt.xlabel('Minutos')\n",
    "\n",
    "plt.title('Tiempo de viaje')\n",
    "\n",
    "plt.show()"
   ]
  },
  {
   "attachments": {},
   "cell_type": "markdown",
   "metadata": {},
   "source": [
    "## P9: Extrae el día, el nombre del día, el mes y la hora de `fecha_inicio`"
   ]
  },
  {
   "cell_type": "code",
   "execution_count": 20,
   "metadata": {},
   "outputs": [
    {
     "name": "stdout",
     "output_type": "stream",
     "text": [
      "0        2019-06-28 20:36:00\n",
      "1        2019-07-14 10:00:00\n",
      "2        2019-05-23 13:40:00\n",
      "3        2019-05-29 14:50:00\n",
      "4        2019-06-26 13:25:00\n",
      "                 ...        \n",
      "383563   2019-05-10 19:40:00\n",
      "383564   2019-08-05 20:00:00\n",
      "383565   2019-04-29 16:15:00\n",
      "383566   2019-07-07 15:00:00\n",
      "383567   2019-06-16 18:35:00\n",
      "Name: fecha_inicio, Length: 382197, dtype: datetime64[ns]\n"
     ]
    },
    {
     "name": "stderr",
     "output_type": "stream",
     "text": [
      "C:\\Users\\veneg\\AppData\\Local\\Temp\\ipykernel_2784\\3909483733.py:3: SettingWithCopyWarning: \n",
      "A value is trying to be set on a copy of a slice from a DataFrame.\n",
      "Try using .loc[row_indexer,col_indexer] = value instead\n",
      "\n",
      "See the caveats in the documentation: https://pandas.pydata.org/pandas-docs/stable/user_guide/indexing.html#returning-a-view-versus-a-copy\n",
      "  df_renfe_fo['hora'] = df_renfe_fo['fecha_inicio'].dt.strftime('%H:%M')\n",
      "C:\\Users\\veneg\\AppData\\Local\\Temp\\ipykernel_2784\\3909483733.py:4: SettingWithCopyWarning: \n",
      "A value is trying to be set on a copy of a slice from a DataFrame.\n",
      "Try using .loc[row_indexer,col_indexer] = value instead\n",
      "\n",
      "See the caveats in the documentation: https://pandas.pydata.org/pandas-docs/stable/user_guide/indexing.html#returning-a-view-versus-a-copy\n",
      "  df_renfe_fo['dia'] = df_renfe_fo['fecha_inicio'].dt.day\n",
      "C:\\Users\\veneg\\AppData\\Local\\Temp\\ipykernel_2784\\3909483733.py:5: SettingWithCopyWarning: \n",
      "A value is trying to be set on a copy of a slice from a DataFrame.\n",
      "Try using .loc[row_indexer,col_indexer] = value instead\n",
      "\n",
      "See the caveats in the documentation: https://pandas.pydata.org/pandas-docs/stable/user_guide/indexing.html#returning-a-view-versus-a-copy\n",
      "  df_renfe_fo['mes'] = df_renfe_fo['fecha_inicio'].dt.month_name()\n",
      "C:\\Users\\veneg\\AppData\\Local\\Temp\\ipykernel_2784\\3909483733.py:6: SettingWithCopyWarning: \n",
      "A value is trying to be set on a copy of a slice from a DataFrame.\n",
      "Try using .loc[row_indexer,col_indexer] = value instead\n",
      "\n",
      "See the caveats in the documentation: https://pandas.pydata.org/pandas-docs/stable/user_guide/indexing.html#returning-a-view-versus-a-copy\n",
      "  df_renfe_fo['dia_semana'] = df_renfe_fo['fecha_inicio'].dt.day_name()\n"
     ]
    }
   ],
   "source": [
    "print(df_renfe_fo[\"fecha_inicio\"])\n",
    "tiempo_de_viaje = resta.dt.total_seconds()\n",
    "df_renfe_fo['hora'] = df_renfe_fo['fecha_inicio'].dt.strftime('%H:%M')\n",
    "df_renfe_fo['dia'] = df_renfe_fo['fecha_inicio'].dt.day\n",
    "df_renfe_fo['mes'] = df_renfe_fo['fecha_inicio'].dt.month_name()\n",
    "df_renfe_fo['dia_semana'] = df_renfe_fo['fecha_inicio'].dt.day_name()\n"
   ]
  },
  {
   "cell_type": "code",
   "execution_count": 21,
   "metadata": {},
   "outputs": [
    {
     "name": "stdout",
     "output_type": "stream",
     "text": [
      "0    20:36\n",
      "1    10:00\n",
      "2    13:40\n",
      "3    14:50\n",
      "4    13:25\n",
      "Name: hora, dtype: object\n",
      "0    28\n",
      "1    14\n",
      "2    23\n",
      "3    29\n",
      "4    26\n",
      "Name: dia, dtype: int64\n",
      "0    June\n",
      "1    July\n",
      "2     May\n",
      "3     May\n",
      "4    June\n",
      "Name: mes, dtype: object\n",
      "0       Friday\n",
      "1       Sunday\n",
      "2     Thursday\n",
      "3    Wednesday\n",
      "4    Wednesday\n",
      "Name: dia_semana, dtype: object\n"
     ]
    }
   ],
   "source": [
    "print(df_renfe_fo['hora'].head())\n",
    "print(df_renfe_fo['dia'].head()) \n",
    "print(df_renfe_fo['mes'].head()) \n",
    "print(df_renfe_fo['dia_semana'].head()) "
   ]
  },
  {
   "attachments": {},
   "cell_type": "markdown",
   "metadata": {},
   "source": [
    "## P10: Quita las columnas `fecha_consulta`, `fecha_inicio` y `fecha_fin` del dataset"
   ]
  },
  {
   "cell_type": "code",
   "execution_count": 22,
   "metadata": {},
   "outputs": [
    {
     "name": "stdout",
     "output_type": "stream",
     "text": [
      "  ciudad_origen ciudad_destino tipo_tren tipo_tarifa    clase  precio   hora  \\\n",
      "0       SEVILLA         MADRID     ALVIA    Flexible  Turista   67.20  20:36   \n",
      "1     BARCELONA         MADRID       AVE    Flexible  Turista  107.70  10:00   \n",
      "2       SEVILLA         MADRID       AVE       Promo  Turista   47.30  13:40   \n",
      "3      VALENCIA         MADRID  REGIONAL  Adulto ida  Turista   28.35  14:50   \n",
      "4        MADRID      BARCELONA   AVE-TGV       Promo  Turista   66.75  13:25   \n",
      "\n",
      "   dia   mes dia_semana  \n",
      "0   28  June     Friday  \n",
      "1   14  July     Sunday  \n",
      "2   23   May   Thursday  \n",
      "3   29   May  Wednesday  \n",
      "4   26  June  Wednesday  \n"
     ]
    }
   ],
   "source": [
    "renfe_sinfechas = df_renfe_fo.drop(['fecha_consulta', 'fecha_inicio','fecha_fin'], axis=1)\n",
    "print(renfe_sinfechas.head())"
   ]
  },
  {
   "attachments": {},
   "cell_type": "markdown",
   "metadata": {},
   "source": [
    "## P11: Lee el dataset `coordenadas_ciudades.csv` y únelo con al dataset que has procesado hasta ahora (utiliza `ciudad_destino` para el `join`)"
   ]
  },
  {
   "cell_type": "code",
   "execution_count": 23,
   "metadata": {},
   "outputs": [
    {
     "name": "stdout",
     "output_type": "stream",
     "text": [
      "  ciudad_origen ciudad_destino tipo_tren tipo_tarifa    clase  precio   hora  \\\n",
      "0       SEVILLA         MADRID     ALVIA    Flexible  Turista   67.20  20:36   \n",
      "1     BARCELONA         MADRID       AVE    Flexible  Turista  107.70  10:00   \n",
      "2       SEVILLA         MADRID       AVE       Promo  Turista   47.30  13:40   \n",
      "3      VALENCIA         MADRID  REGIONAL  Adulto ida  Turista   28.35  14:50   \n",
      "4       SEVILLA         MADRID       AVE       Promo  Turista   60.30  08:45   \n",
      "\n",
      "   dia   mes dia_semana    latitud  longitud  \n",
      "0   28  June     Friday  40.416705 -3.703582  \n",
      "1   14  July     Sunday  40.416705 -3.703582  \n",
      "2   23   May   Thursday  40.416705 -3.703582  \n",
      "3   29   May  Wednesday  40.416705 -3.703582  \n",
      "4   21  July     Sunday  40.416705 -3.703582  \n"
     ]
    }
   ],
   "source": [
    "df_coordenadas = pd.read_csv(\"data/coordenadas_ciudades.csv\")\n",
    "df_coordenadas2 = df_coordenadas.rename(columns={'ciudad': 'ciudad_destino'})\n",
    "renfe_join = pd.merge(renfe_sinfechas, df_coordenadas2,on='ciudad_destino',how='inner')\n",
    "print(renfe_join.head())\n",
    "\n",
    "\n"
   ]
  },
  {
   "attachments": {},
   "cell_type": "markdown",
   "metadata": {},
   "source": [
    "## P12: Gráfica en un mapa el precio medio por ciudad de destino"
   ]
  },
  {
   "cell_type": "code",
   "execution_count": 24,
   "metadata": {},
   "outputs": [
    {
     "name": "stdout",
     "output_type": "stream",
     "text": [
      "  ciudad_destino    latitud  longitud     precio\n",
      "0      BARCELONA  41.382894  2.177432  86.606999\n",
      "1         MADRID  40.416705 -3.703582  60.646823\n",
      "2     PONFERRADA  42.545412 -6.593872  45.044325\n",
      "3        SEVILLA  37.388630 -5.995340  58.450816\n",
      "4       VALENCIA  39.469901 -0.375951  41.481436\n"
     ]
    }
   ],
   "source": [
    "#calculamos la media de precios por ciudad:\n",
    "\n",
    "renfe_mapa = renfe_join.groupby('ciudad_destino').agg({'latitud': 'first', 'longitud': 'first', 'precio': 'mean'}).reset_index()\n",
    "print(renfe_mapa.head())"
   ]
  },
  {
   "cell_type": "code",
   "execution_count": 25,
   "metadata": {},
   "outputs": [
    {
     "data": {
      "application/vnd.plotly.v1+json": {
       "config": {
        "plotlyServerURL": "https://plot.ly"
       },
       "data": [
        {
         "customdata": [
          [
           86.60699864878227
          ],
          [
           60.6468234508607
          ],
          [
           45.04432522651407
          ],
          [
           58.450816022620174
          ],
          [
           41.48143562726375
          ]
         ],
         "hovertemplate": "<b>%{hovertext}</b><br><br>latitud=%{lat}<br>longitud=%{lon}<br>precio=%{marker.color}<extra></extra>",
         "hovertext": [
          "BARCELONA",
          "MADRID",
          "PONFERRADA",
          "SEVILLA",
          "VALENCIA"
         ],
         "lat": [
          41.3828939,
          40.4167047,
          42.5454124,
          37.3886303,
          39.4699014
         ],
         "legendgroup": "",
         "lon": [
          2.1774322,
          -3.7035825,
          -6.5938719,
          -5.9953403,
          -0.3759513
         ],
         "marker": {
          "color": [
           86.60699864878227,
           60.6468234508607,
           45.04432522651407,
           58.450816022620174,
           41.48143562726375
          ],
          "coloraxis": "coloraxis"
         },
         "mode": "markers",
         "name": "",
         "showlegend": false,
         "subplot": "mapbox",
         "type": "scattermapbox"
        }
       ],
       "layout": {
        "coloraxis": {
         "colorbar": {
          "title": {
           "text": "precio"
          }
         },
         "colorscale": [
          [
           0,
           "#440154"
          ],
          [
           0.1111111111111111,
           "#482878"
          ],
          [
           0.2222222222222222,
           "#3e4989"
          ],
          [
           0.3333333333333333,
           "#31688e"
          ],
          [
           0.4444444444444444,
           "#26828e"
          ],
          [
           0.5555555555555556,
           "#1f9e89"
          ],
          [
           0.6666666666666666,
           "#35b779"
          ],
          [
           0.7777777777777778,
           "#6ece58"
          ],
          [
           0.8888888888888888,
           "#b5de2b"
          ],
          [
           1,
           "#fde725"
          ]
         ]
        },
        "legend": {
         "tracegroupgap": 0
        },
        "mapbox": {
         "center": {
          "lat": 40.24070854,
          "lon": -2.89826276
         },
         "domain": {
          "x": [
           0,
           1
          ],
          "y": [
           0,
           1
          ]
         },
         "style": "carto-positron",
         "zoom": 5
        },
        "margin": {
         "t": 60
        },
        "template": {
         "data": {
          "bar": [
           {
            "error_x": {
             "color": "#2a3f5f"
            },
            "error_y": {
             "color": "#2a3f5f"
            },
            "marker": {
             "line": {
              "color": "#E5ECF6",
              "width": 0.5
             },
             "pattern": {
              "fillmode": "overlay",
              "size": 10,
              "solidity": 0.2
             }
            },
            "type": "bar"
           }
          ],
          "barpolar": [
           {
            "marker": {
             "line": {
              "color": "#E5ECF6",
              "width": 0.5
             },
             "pattern": {
              "fillmode": "overlay",
              "size": 10,
              "solidity": 0.2
             }
            },
            "type": "barpolar"
           }
          ],
          "carpet": [
           {
            "aaxis": {
             "endlinecolor": "#2a3f5f",
             "gridcolor": "white",
             "linecolor": "white",
             "minorgridcolor": "white",
             "startlinecolor": "#2a3f5f"
            },
            "baxis": {
             "endlinecolor": "#2a3f5f",
             "gridcolor": "white",
             "linecolor": "white",
             "minorgridcolor": "white",
             "startlinecolor": "#2a3f5f"
            },
            "type": "carpet"
           }
          ],
          "choropleth": [
           {
            "colorbar": {
             "outlinewidth": 0,
             "ticks": ""
            },
            "type": "choropleth"
           }
          ],
          "contour": [
           {
            "colorbar": {
             "outlinewidth": 0,
             "ticks": ""
            },
            "colorscale": [
             [
              0,
              "#0d0887"
             ],
             [
              0.1111111111111111,
              "#46039f"
             ],
             [
              0.2222222222222222,
              "#7201a8"
             ],
             [
              0.3333333333333333,
              "#9c179e"
             ],
             [
              0.4444444444444444,
              "#bd3786"
             ],
             [
              0.5555555555555556,
              "#d8576b"
             ],
             [
              0.6666666666666666,
              "#ed7953"
             ],
             [
              0.7777777777777778,
              "#fb9f3a"
             ],
             [
              0.8888888888888888,
              "#fdca26"
             ],
             [
              1,
              "#f0f921"
             ]
            ],
            "type": "contour"
           }
          ],
          "contourcarpet": [
           {
            "colorbar": {
             "outlinewidth": 0,
             "ticks": ""
            },
            "type": "contourcarpet"
           }
          ],
          "heatmap": [
           {
            "colorbar": {
             "outlinewidth": 0,
             "ticks": ""
            },
            "colorscale": [
             [
              0,
              "#0d0887"
             ],
             [
              0.1111111111111111,
              "#46039f"
             ],
             [
              0.2222222222222222,
              "#7201a8"
             ],
             [
              0.3333333333333333,
              "#9c179e"
             ],
             [
              0.4444444444444444,
              "#bd3786"
             ],
             [
              0.5555555555555556,
              "#d8576b"
             ],
             [
              0.6666666666666666,
              "#ed7953"
             ],
             [
              0.7777777777777778,
              "#fb9f3a"
             ],
             [
              0.8888888888888888,
              "#fdca26"
             ],
             [
              1,
              "#f0f921"
             ]
            ],
            "type": "heatmap"
           }
          ],
          "heatmapgl": [
           {
            "colorbar": {
             "outlinewidth": 0,
             "ticks": ""
            },
            "colorscale": [
             [
              0,
              "#0d0887"
             ],
             [
              0.1111111111111111,
              "#46039f"
             ],
             [
              0.2222222222222222,
              "#7201a8"
             ],
             [
              0.3333333333333333,
              "#9c179e"
             ],
             [
              0.4444444444444444,
              "#bd3786"
             ],
             [
              0.5555555555555556,
              "#d8576b"
             ],
             [
              0.6666666666666666,
              "#ed7953"
             ],
             [
              0.7777777777777778,
              "#fb9f3a"
             ],
             [
              0.8888888888888888,
              "#fdca26"
             ],
             [
              1,
              "#f0f921"
             ]
            ],
            "type": "heatmapgl"
           }
          ],
          "histogram": [
           {
            "marker": {
             "pattern": {
              "fillmode": "overlay",
              "size": 10,
              "solidity": 0.2
             }
            },
            "type": "histogram"
           }
          ],
          "histogram2d": [
           {
            "colorbar": {
             "outlinewidth": 0,
             "ticks": ""
            },
            "colorscale": [
             [
              0,
              "#0d0887"
             ],
             [
              0.1111111111111111,
              "#46039f"
             ],
             [
              0.2222222222222222,
              "#7201a8"
             ],
             [
              0.3333333333333333,
              "#9c179e"
             ],
             [
              0.4444444444444444,
              "#bd3786"
             ],
             [
              0.5555555555555556,
              "#d8576b"
             ],
             [
              0.6666666666666666,
              "#ed7953"
             ],
             [
              0.7777777777777778,
              "#fb9f3a"
             ],
             [
              0.8888888888888888,
              "#fdca26"
             ],
             [
              1,
              "#f0f921"
             ]
            ],
            "type": "histogram2d"
           }
          ],
          "histogram2dcontour": [
           {
            "colorbar": {
             "outlinewidth": 0,
             "ticks": ""
            },
            "colorscale": [
             [
              0,
              "#0d0887"
             ],
             [
              0.1111111111111111,
              "#46039f"
             ],
             [
              0.2222222222222222,
              "#7201a8"
             ],
             [
              0.3333333333333333,
              "#9c179e"
             ],
             [
              0.4444444444444444,
              "#bd3786"
             ],
             [
              0.5555555555555556,
              "#d8576b"
             ],
             [
              0.6666666666666666,
              "#ed7953"
             ],
             [
              0.7777777777777778,
              "#fb9f3a"
             ],
             [
              0.8888888888888888,
              "#fdca26"
             ],
             [
              1,
              "#f0f921"
             ]
            ],
            "type": "histogram2dcontour"
           }
          ],
          "mesh3d": [
           {
            "colorbar": {
             "outlinewidth": 0,
             "ticks": ""
            },
            "type": "mesh3d"
           }
          ],
          "parcoords": [
           {
            "line": {
             "colorbar": {
              "outlinewidth": 0,
              "ticks": ""
             }
            },
            "type": "parcoords"
           }
          ],
          "pie": [
           {
            "automargin": true,
            "type": "pie"
           }
          ],
          "scatter": [
           {
            "fillpattern": {
             "fillmode": "overlay",
             "size": 10,
             "solidity": 0.2
            },
            "type": "scatter"
           }
          ],
          "scatter3d": [
           {
            "line": {
             "colorbar": {
              "outlinewidth": 0,
              "ticks": ""
             }
            },
            "marker": {
             "colorbar": {
              "outlinewidth": 0,
              "ticks": ""
             }
            },
            "type": "scatter3d"
           }
          ],
          "scattercarpet": [
           {
            "marker": {
             "colorbar": {
              "outlinewidth": 0,
              "ticks": ""
             }
            },
            "type": "scattercarpet"
           }
          ],
          "scattergeo": [
           {
            "marker": {
             "colorbar": {
              "outlinewidth": 0,
              "ticks": ""
             }
            },
            "type": "scattergeo"
           }
          ],
          "scattergl": [
           {
            "marker": {
             "colorbar": {
              "outlinewidth": 0,
              "ticks": ""
             }
            },
            "type": "scattergl"
           }
          ],
          "scattermapbox": [
           {
            "marker": {
             "colorbar": {
              "outlinewidth": 0,
              "ticks": ""
             }
            },
            "type": "scattermapbox"
           }
          ],
          "scatterpolar": [
           {
            "marker": {
             "colorbar": {
              "outlinewidth": 0,
              "ticks": ""
             }
            },
            "type": "scatterpolar"
           }
          ],
          "scatterpolargl": [
           {
            "marker": {
             "colorbar": {
              "outlinewidth": 0,
              "ticks": ""
             }
            },
            "type": "scatterpolargl"
           }
          ],
          "scatterternary": [
           {
            "marker": {
             "colorbar": {
              "outlinewidth": 0,
              "ticks": ""
             }
            },
            "type": "scatterternary"
           }
          ],
          "surface": [
           {
            "colorbar": {
             "outlinewidth": 0,
             "ticks": ""
            },
            "colorscale": [
             [
              0,
              "#0d0887"
             ],
             [
              0.1111111111111111,
              "#46039f"
             ],
             [
              0.2222222222222222,
              "#7201a8"
             ],
             [
              0.3333333333333333,
              "#9c179e"
             ],
             [
              0.4444444444444444,
              "#bd3786"
             ],
             [
              0.5555555555555556,
              "#d8576b"
             ],
             [
              0.6666666666666666,
              "#ed7953"
             ],
             [
              0.7777777777777778,
              "#fb9f3a"
             ],
             [
              0.8888888888888888,
              "#fdca26"
             ],
             [
              1,
              "#f0f921"
             ]
            ],
            "type": "surface"
           }
          ],
          "table": [
           {
            "cells": {
             "fill": {
              "color": "#EBF0F8"
             },
             "line": {
              "color": "white"
             }
            },
            "header": {
             "fill": {
              "color": "#C8D4E3"
             },
             "line": {
              "color": "white"
             }
            },
            "type": "table"
           }
          ]
         },
         "layout": {
          "annotationdefaults": {
           "arrowcolor": "#2a3f5f",
           "arrowhead": 0,
           "arrowwidth": 1
          },
          "autotypenumbers": "strict",
          "coloraxis": {
           "colorbar": {
            "outlinewidth": 0,
            "ticks": ""
           }
          },
          "colorscale": {
           "diverging": [
            [
             0,
             "#8e0152"
            ],
            [
             0.1,
             "#c51b7d"
            ],
            [
             0.2,
             "#de77ae"
            ],
            [
             0.3,
             "#f1b6da"
            ],
            [
             0.4,
             "#fde0ef"
            ],
            [
             0.5,
             "#f7f7f7"
            ],
            [
             0.6,
             "#e6f5d0"
            ],
            [
             0.7,
             "#b8e186"
            ],
            [
             0.8,
             "#7fbc41"
            ],
            [
             0.9,
             "#4d9221"
            ],
            [
             1,
             "#276419"
            ]
           ],
           "sequential": [
            [
             0,
             "#0d0887"
            ],
            [
             0.1111111111111111,
             "#46039f"
            ],
            [
             0.2222222222222222,
             "#7201a8"
            ],
            [
             0.3333333333333333,
             "#9c179e"
            ],
            [
             0.4444444444444444,
             "#bd3786"
            ],
            [
             0.5555555555555556,
             "#d8576b"
            ],
            [
             0.6666666666666666,
             "#ed7953"
            ],
            [
             0.7777777777777778,
             "#fb9f3a"
            ],
            [
             0.8888888888888888,
             "#fdca26"
            ],
            [
             1,
             "#f0f921"
            ]
           ],
           "sequentialminus": [
            [
             0,
             "#0d0887"
            ],
            [
             0.1111111111111111,
             "#46039f"
            ],
            [
             0.2222222222222222,
             "#7201a8"
            ],
            [
             0.3333333333333333,
             "#9c179e"
            ],
            [
             0.4444444444444444,
             "#bd3786"
            ],
            [
             0.5555555555555556,
             "#d8576b"
            ],
            [
             0.6666666666666666,
             "#ed7953"
            ],
            [
             0.7777777777777778,
             "#fb9f3a"
            ],
            [
             0.8888888888888888,
             "#fdca26"
            ],
            [
             1,
             "#f0f921"
            ]
           ]
          },
          "colorway": [
           "#636efa",
           "#EF553B",
           "#00cc96",
           "#ab63fa",
           "#FFA15A",
           "#19d3f3",
           "#FF6692",
           "#B6E880",
           "#FF97FF",
           "#FECB52"
          ],
          "font": {
           "color": "#2a3f5f"
          },
          "geo": {
           "bgcolor": "white",
           "lakecolor": "white",
           "landcolor": "#E5ECF6",
           "showlakes": true,
           "showland": true,
           "subunitcolor": "white"
          },
          "hoverlabel": {
           "align": "left"
          },
          "hovermode": "closest",
          "mapbox": {
           "style": "light"
          },
          "paper_bgcolor": "white",
          "plot_bgcolor": "#E5ECF6",
          "polar": {
           "angularaxis": {
            "gridcolor": "white",
            "linecolor": "white",
            "ticks": ""
           },
           "bgcolor": "#E5ECF6",
           "radialaxis": {
            "gridcolor": "white",
            "linecolor": "white",
            "ticks": ""
           }
          },
          "scene": {
           "xaxis": {
            "backgroundcolor": "#E5ECF6",
            "gridcolor": "white",
            "gridwidth": 2,
            "linecolor": "white",
            "showbackground": true,
            "ticks": "",
            "zerolinecolor": "white"
           },
           "yaxis": {
            "backgroundcolor": "#E5ECF6",
            "gridcolor": "white",
            "gridwidth": 2,
            "linecolor": "white",
            "showbackground": true,
            "ticks": "",
            "zerolinecolor": "white"
           },
           "zaxis": {
            "backgroundcolor": "#E5ECF6",
            "gridcolor": "white",
            "gridwidth": 2,
            "linecolor": "white",
            "showbackground": true,
            "ticks": "",
            "zerolinecolor": "white"
           }
          },
          "shapedefaults": {
           "line": {
            "color": "#2a3f5f"
           }
          },
          "ternary": {
           "aaxis": {
            "gridcolor": "white",
            "linecolor": "white",
            "ticks": ""
           },
           "baxis": {
            "gridcolor": "white",
            "linecolor": "white",
            "ticks": ""
           },
           "bgcolor": "#E5ECF6",
           "caxis": {
            "gridcolor": "white",
            "linecolor": "white",
            "ticks": ""
           }
          },
          "title": {
           "x": 0.05
          },
          "xaxis": {
           "automargin": true,
           "gridcolor": "white",
           "linecolor": "white",
           "ticks": "",
           "title": {
            "standoff": 15
           },
           "zerolinecolor": "white",
           "zerolinewidth": 2
          },
          "yaxis": {
           "automargin": true,
           "gridcolor": "white",
           "linecolor": "white",
           "ticks": "",
           "title": {
            "standoff": 15
           },
           "zerolinecolor": "white",
           "zerolinewidth": 2
          }
         }
        }
       }
      }
     },
     "metadata": {},
     "output_type": "display_data"
    }
   ],
   "source": [
    "\n",
    "\n",
    "\n",
    "mapa = px.scatter_mapbox(renfe_mapa, lat=\"latitud\", lon=\"longitud\", hover_name=\"ciudad_destino\", hover_data=[\"precio\"],\n",
    "                        color=\"precio\", color_continuous_scale=\"Viridis\",\n",
    "                        mapbox_style=\"carto-positron\", zoom=5)\n",
    "\n",
    "\n",
    "mapa.show()"
   ]
  },
  {
   "attachments": {},
   "cell_type": "markdown",
   "metadata": {},
   "source": [
    "## P13: Haz una tabla de correlación, ¿hay variables númericas correladas con el precio?"
   ]
  },
  {
   "cell_type": "code",
   "execution_count": 26,
   "metadata": {},
   "outputs": [
    {
     "name": "stdout",
     "output_type": "stream",
     "text": [
      "          precio       dia\n",
      "precio  1.000000  0.032381\n",
      "dia     0.032381  1.000000\n",
      "            precio       dia   latitud  longitud\n",
      "precio    1.000000  0.032381  0.231569  0.246793\n",
      "dia       0.032381  1.000000  0.001802  0.003053\n",
      "latitud   0.231569  0.001802  1.000000  0.531513\n",
      "longitud  0.246793  0.003053  0.531513  1.000000\n"
     ]
    },
    {
     "name": "stderr",
     "output_type": "stream",
     "text": [
      "C:\\Users\\veneg\\AppData\\Local\\Temp\\ipykernel_2784\\1269896819.py:2: FutureWarning:\n",
      "\n",
      "The default value of numeric_only in DataFrame.corr is deprecated. In a future version, it will default to False. Select only valid columns or specify the value of numeric_only to silence this warning.\n",
      "\n",
      "C:\\Users\\veneg\\AppData\\Local\\Temp\\ipykernel_2784\\1269896819.py:3: FutureWarning:\n",
      "\n",
      "The default value of numeric_only in DataFrame.corr is deprecated. In a future version, it will default to False. Select only valid columns or specify the value of numeric_only to silence this warning.\n",
      "\n"
     ]
    }
   ],
   "source": [
    "\n",
    "# Calculamos la correlación con las diferentes variables numéricas\n",
    "correlacion1 = df_renfe_fo.corr()\n",
    "correlacion2 = renfe_join.corr()\n",
    "# Mostrar la tabla de correlación\n",
    "print(correlacion1)\n",
    "print(correlacion2)"
   ]
  },
  {
   "attachments": {},
   "cell_type": "markdown",
   "metadata": {},
   "source": [
    "Hay varias variables numéricas correlacionadas con el precio: \n",
    "La correlación del día de salida del tren con el precio es de 0.032381. Esto es una correlación baja, lo cual quiere decir que los cambios en el dia de salida del transporte tienen una influencia mínima en el precio.\n",
    "Por otro lado, la correlación de la latitud y longitud con el precio es algo mayor, en torno a 2.5, lo cul quiere decir que un mayor o menor precio tiene que ver con la ciudad.\n",
    "\n"
   ]
  },
  {
   "attachments": {},
   "cell_type": "markdown",
   "metadata": {},
   "source": [
    "## P14: Relación entre variables del dataset y `precio`"
   ]
  },
  {
   "attachments": {},
   "cell_type": "markdown",
   "metadata": {},
   "source": [
    "### P14.1: Haz un scatter plot de precio vs. tiempo de viaje"
   ]
  },
  {
   "cell_type": "code",
   "execution_count": 27,
   "metadata": {},
   "outputs": [
    {
     "data": {
      "image/png": "[encoded data removed]",
      "text/plain": [
       "<Figure size 640x480 with 1 Axes>"
      ]
     },
     "metadata": {},
     "output_type": "display_data"
    }
   ],
   "source": [
    "\n",
    "tiempo_de_viaje = resta.dt.total_seconds() / 60\n",
    "plt.scatter(df_renfe_fo['precio'],tiempo_de_viaje)\n",
    "plt.title('Precio vs Tiempo de Viaje')\n",
    "plt.xlabel('Tiempo de Viaje (minutos)')\n",
    "plt.ylabel('Precio')\n",
    "plt.show()"
   ]
  },
  {
   "attachments": {},
   "cell_type": "markdown",
   "metadata": {},
   "source": [
    "### P14.2: Haz un boxplot de precio vs. dia de la semana"
   ]
  },
  {
   "cell_type": "code",
   "execution_count": 28,
   "metadata": {},
   "outputs": [
    {
     "name": "stderr",
     "output_type": "stream",
     "text": [
      "C:\\Users\\veneg\\AppData\\Local\\Temp\\ipykernel_2784\\3038101451.py:4: SettingWithCopyWarning:\n",
      "\n",
      "\n",
      "A value is trying to be set on a copy of a slice from a DataFrame.\n",
      "Try using .loc[row_indexer,col_indexer] = value instead\n",
      "\n",
      "See the caveats in the documentation: https://pandas.pydata.org/pandas-docs/stable/user_guide/indexing.html#returning-a-view-versus-a-copy\n",
      "\n"
     ]
    },
    {
     "data": {
      "text/plain": [
       "Text(0, 0.5, 'Precio')"
      ]
     },
     "execution_count": 28,
     "metadata": {},
     "output_type": "execute_result"
    },
    {
     "data": {
      "image/png": "[encoded data removed]",
      "text/plain": [
       "<Figure size 640x480 with 1 Axes>"
      ]
     },
     "metadata": {},
     "output_type": "display_data"
    }
   ],
   "source": [
    "orden_dias = {'Monday': 0, 'Tuesday': 1, 'Wednesday': 2, 'Thursday': 3, 'Friday': 4, 'Saturday': 5, 'Sunday': 6}\n",
    "\n",
    "\n",
    "df_renfe_fo['dia_semana'] = pd.Categorical(df_renfe_fo['dia_semana'], categories=sorted(orden_dias, key=orden_dias.get), ordered=True)\n",
    "\n",
    "\n",
    "sns.boxplot(x=df_renfe_fo['dia_semana'], y=df_renfe_fo['precio'])\n",
    "plt.title('Precio por día de la semana')\n",
    "plt.xlabel('Día de la semana')\n",
    "plt.ylabel('Precio')"
   ]
  },
  {
   "cell_type": "code",
   "execution_count": 29,
   "metadata": {},
   "outputs": [
    {
     "name": "stdout",
     "output_type": "stream",
     "text": [
      "       fecha_consulta        fecha_inicio           fecha_fin ciudad_origen  \\\n",
      "0 2019-05-25 01:43:03 2019-06-28 20:36:00 2019-06-28 23:14:00       SEVILLA   \n",
      "1 2019-06-22 13:05:11 2019-07-14 10:00:00 2019-07-14 13:10:00     BARCELONA   \n",
      "2 2019-04-17 06:24:03 2019-05-23 13:40:00 2019-05-23 16:10:00       SEVILLA   \n",
      "3 2019-05-10 21:21:59 2019-05-29 14:50:00 2019-05-29 22:30:00      VALENCIA   \n",
      "4 2019-05-09 19:43:37 2019-06-26 13:25:00 2019-06-26 16:24:00        MADRID   \n",
      "\n",
      "  ciudad_destino tipo_tren tipo_tarifa    clase  precio   hora  dia   mes  \\\n",
      "0         MADRID     ALVIA    Flexible  Turista   67.20  20:36   28  June   \n",
      "1         MADRID       AVE    Flexible  Turista  107.70  10:00   14  July   \n",
      "2         MADRID       AVE       Promo  Turista   47.30  13:40   23   May   \n",
      "3         MADRID  REGIONAL  Adulto ida  Turista   28.35  14:50   29   May   \n",
      "4      BARCELONA   AVE-TGV       Promo  Turista   66.75  13:25   26  June   \n",
      "\n",
      "  dia_semana  \n",
      "0     Friday  \n",
      "1     Sunday  \n",
      "2   Thursday  \n",
      "3  Wednesday  \n",
      "4  Wednesday  \n"
     ]
    }
   ],
   "source": [
    "print(df_renfe_fo.head())"
   ]
  },
  {
   "attachments": {},
   "cell_type": "markdown",
   "metadata": {},
   "source": [
    "### P14.3: Gráfica el precio medio por día de la semana"
   ]
  },
  {
   "cell_type": "code",
   "execution_count": 30,
   "metadata": {},
   "outputs": [
    {
     "name": "stdout",
     "output_type": "stream",
     "text": [
      "  dia_semana     precio\n",
      "0     Monday  61.026277\n",
      "1    Tuesday  57.785029\n",
      "2  Wednesday  58.994769\n",
      "3   Thursday  60.703694\n",
      "4     Friday  65.742630\n",
      "5   Saturday  57.657797\n",
      "6     Sunday  67.856354\n"
     ]
    }
   ],
   "source": [
    "renfe_mediapordia = df_renfe_fo.groupby('dia_semana')['precio'].mean().reset_index()\n",
    "print(renfe_mediapordia)\n"
   ]
  },
  {
   "cell_type": "code",
   "execution_count": 31,
   "metadata": {},
   "outputs": [
    {
     "data": {
      "image/png": "[encoded data removed]",
      "text/plain": [
       "<Figure size 640x480 with 1 Axes>"
      ]
     },
     "metadata": {},
     "output_type": "display_data"
    }
   ],
   "source": [
    "sns.barplot(x='dia_semana', y='precio', data=renfe_mediapordia)\n",
    "plt.title('Precio medio por día de la semana')\n",
    "plt.xlabel('Día de la semana')\n",
    "plt.ylabel('Precio medio')\n",
    "plt.show()"
   ]
  },
  {
   "attachments": {},
   "cell_type": "markdown",
   "metadata": {},
   "source": [
    "## P15: Crea un nuevo dataframe donge apliques *one-hot-encoding* a las variables categoricas"
   ]
  },
  {
   "cell_type": "code",
   "execution_count": 32,
   "metadata": {},
   "outputs": [
    {
     "name": "stdout",
     "output_type": "stream",
     "text": [
      "   ciudad_origen_BARCELONA  ciudad_origen_MADRID  ciudad_origen_PONFERRADA  \\\n",
      "0                        0                     0                         0   \n",
      "1                        1                     0                         0   \n",
      "2                        0                     0                         0   \n",
      "3                        0                     0                         0   \n",
      "4                        0                     0                         0   \n",
      "\n",
      "   ciudad_origen_SEVILLA  ciudad_origen_VALENCIA  ciudad_destino_BARCELONA  \\\n",
      "0                      1                       0                         0   \n",
      "1                      0                       0                         0   \n",
      "2                      1                       0                         0   \n",
      "3                      0                       1                         0   \n",
      "4                      1                       0                         0   \n",
      "\n",
      "   ciudad_destino_MADRID  ciudad_destino_PONFERRADA  ciudad_destino_SEVILLA  \\\n",
      "0                      1                          0                       0   \n",
      "1                      1                          0                       0   \n",
      "2                      1                          0                       0   \n",
      "3                      1                          0                       0   \n",
      "4                      1                          0                       0   \n",
      "\n",
      "   ciudad_destino_VALENCIA  ...  tipo_tarifa_Promo +  clase_Cama G. Clase  \\\n",
      "0                        0  ...                    0                    0   \n",
      "1                        0  ...                    0                    0   \n",
      "2                        0  ...                    0                    0   \n",
      "3                        0  ...                    0                    0   \n",
      "4                        0  ...                    0                    0   \n",
      "\n",
      "   clase_Cama Turista  clase_Preferente  clase_PreferenteSólo plaza H  \\\n",
      "0                   0                 0                             0   \n",
      "1                   0                 0                             0   \n",
      "2                   0                 0                             0   \n",
      "3                   0                 0                             0   \n",
      "4                   0                 0                             0   \n",
      "\n",
      "   clase_Turista  clase_Turista Plus  clase_Turista PlusSólo plaza H  \\\n",
      "0              1                   0                               0   \n",
      "1              1                   0                               0   \n",
      "2              1                   0                               0   \n",
      "3              1                   0                               0   \n",
      "4              1                   0                               0   \n",
      "\n",
      "   clase_Turista con enlace  clase_TuristaSólo plaza H  \n",
      "0                         0                          0  \n",
      "1                         0                          0  \n",
      "2                         0                          0  \n",
      "3                         0                          0  \n",
      "4                         0                          0  \n",
      "\n",
      "[5 rows x 45 columns]\n"
     ]
    }
   ],
   "source": [
    "#Creamos un dataframe de one-hot-encoding exclusivamente con las variables categóricas\n",
    "df_one_hot_encoding = pd.get_dummies(renfe_join[['ciudad_origen', 'ciudad_destino', 'tipo_tren', 'tipo_tarifa', 'clase']])\n",
    "print(df_one_hot_encoding.head())\n",
    "        "
   ]
  }
 ],
 "metadata": {
  "interpreter": {
   "hash": "f95277ffa606a35557c638e3347ebf36a745f70f7d65299eb7247e0781680f94"
  },
  "kernelspec": {
   "display_name": "Python 3",
   "language": "python",
   "name": "python3"
  },
  "language_info": {
   "codemirror_mode": {
    "name": "ipython",
    "version": 3
   },
   "file_extension": ".py",
   "mimetype": "text/x-python",
   "name": "python",
   "nbconvert_exporter": "python",
   "pygments_lexer": "ipython3",
   "version": "3.10.9"
  }
 },
 "nbformat": 4,
 "nbformat_minor": 2
}
